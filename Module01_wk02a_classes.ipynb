{
  "nbformat": 4,
  "nbformat_minor": 0,
  "metadata": {
    "colab": {
      "name": "Module01_wk02a_classes.ipynb",
      "provenance": [],
      "collapsed_sections": [],
      "include_colab_link": true
    },
    "kernelspec": {
      "name": "python3",
      "display_name": "Python 3"
    }
  },
  "cells": [
    {
      "cell_type": "markdown",
      "metadata": {
        "id": "view-in-github",
        "colab_type": "text"
      },
      "source": [
        "<a href=\"https://colab.research.google.com/github/Younga93/Study/blob/master/Module01_wk02a_classes.ipynb\" target=\"_parent\"><img src=\"https://colab.research.google.com/assets/colab-badge.svg\" alt=\"Open In Colab\"/></a>"
      ]
    },
    {
      "cell_type": "markdown",
      "metadata": {
        "id": "xzGz4WBOzpgq",
        "colab_type": "text"
      },
      "source": [
        "#Object Oriented Programming in Python\n",
        "##Some OOP Terminology\n",
        "\n",
        " * **Class** - A prototype for an object. An Object is  characterised by attributes. These attributes can be data members (class variables and instance variables) and/or action members (methods). Members are accessed via dot notation.  \n",
        "\n",
        " * **Object** - Unique instances of class. It has its own copy of instance members.  \n",
        "\n",
        " * **Instantiation** - The creation of an object.  \n",
        "\n",
        " * **Instance Member** - Attribute that are implied by code in the class. Each object will have its own copy of these attributes.  \n",
        "\n",
        " * **Class Member** - Attribute that are defined directly in a class. These are shared by all instances of the class.  \n",
        "\n",
        " * **Method** - Are functions that are declared inside of a class. There is an implicit first argument that is a reference to the current object.  \n",
        "\n",
        " * **Inheritance** - The transfer of the attributes from one class (parent) to another class (child)"
      ]
    },
    {
      "cell_type": "markdown",
      "metadata": {
        "id": "wJ_prpaedCf1",
        "colab_type": "text"
      },
      "source": [
        "Everything in Python is an object.  \n",
        "You may use the url to [visualize](http://pythontutor.com/visualize.html#mode=display) your code \n",
        "#**In this notebook**\n",
        "\n",
        "1. The pass keywork\n",
        "2. A [minimalistic class](#minimal_class) definition\n",
        "3. A [simple class](#simple_class) definition\n",
        "4. A more [complete class](#complete_class) definition  \n",
        "  1. Defining [private members](#private_members)\n",
        "5. Simple [inheritance](#inheritance)\n",
        "6. [Multiple Inheritance](#multiple_inheritance)"
      ]
    },
    {
      "cell_type": "markdown",
      "metadata": {
        "id": "zpS0iIrRC-1B",
        "colab_type": "text"
      },
      "source": [
        "####The _pass_ keywork   \n",
        "The pass keyword is a **nothing** statement, it is a placeholder to say that a statement is needed here but I don't have one.  \n",
        "It can be used anywhere a code block is required such as class or method body and if, else, while or for block\n"
      ]
    },
    {
      "cell_type": "code",
      "metadata": {
        "id": "NIY0kL17gfR0",
        "colab_type": "code",
        "colab": {}
      },
      "source": [
        "def bar():\n",
        "  pass           #empty method body\n",
        "\n",
        "x = 5\n",
        "if x == 6:\n",
        "  pass           #empty if block\n",
        "\n",
        "for i in range(3):\n",
        "  pass           #empty for block\n",
        "\n",
        "for s in 'seq':\n",
        "  pass           #empty for block"
      ],
      "execution_count": null,
      "outputs": []
    },
    {
      "cell_type": "markdown",
      "metadata": {
        "id": "DjzfU9D86XhD",
        "colab_type": "text"
      },
      "source": [
        "##2. <a name=\"minimal_class\"></a>The simplist class definition in python.\n",
        "\n",
        "---"
      ]
    },
    {
      "cell_type": "code",
      "metadata": {
        "id": "jI79OS806Oj4",
        "colab_type": "code",
        "colab": {}
      },
      "source": [
        "class Foo:\n",
        "  pass           #empty class body"
      ],
      "execution_count": null,
      "outputs": []
    },
    {
      "cell_type": "markdown",
      "metadata": {
        "id": "3Ao2_4Hkw5x-",
        "colab_type": "text"
      },
      "source": [
        "A minimalist class"
      ]
    },
    {
      "cell_type": "code",
      "metadata": {
        "id": "H9uFh7nwxAbv",
        "colab_type": "code",
        "colab": {}
      },
      "source": [
        "#class definition\n",
        "class Person:\n",
        "  name = 'Narendra'"
      ],
      "execution_count": null,
      "outputs": []
    },
    {
      "cell_type": "markdown",
      "metadata": {
        "id": "IpNpT8OWXje1",
        "colab_type": "text"
      },
      "source": [
        "Test Harness for the above class"
      ]
    },
    {
      "cell_type": "code",
      "metadata": {
        "id": "GuyJE9YDXqr1",
        "colab_type": "code",
        "colab": {
          "base_uri": "https://localhost:8080/",
          "height": 86
        },
        "outputId": "3a1b195f-9d03-4c37-a34e-f9eb3c5fb70f"
      },
      "source": [
        "nar = Person()\n",
        "print(nar.name)\n",
        "\n",
        "hao = Person()\n",
        "print(hao.name)\n",
        "\n",
        "hao.name = 'Hao Lac'\n",
        "print(hao.name)\n",
        "\n",
        "print(nar.name)"
      ],
      "execution_count": null,
      "outputs": [
        {
          "output_type": "stream",
          "text": [
            "Narendra\n",
            "Narendra\n",
            "Hao Lac\n",
            "Narendra\n"
          ],
          "name": "stdout"
        }
      ]
    },
    {
      "cell_type": "markdown",
      "metadata": {
        "id": "Ljyftgrq_p9M",
        "colab_type": "text"
      },
      "source": [
        "##2. <a name=\"simple_class\"></a>A simple class definition\n",
        "This class has:  \n",
        "  * class variable (&UnderBar;id)  \n",
        "  * constructor (&UnderBar;&UnderBar;init&UnderBar;&UnderBar;)  \n",
        "  * instance varible (id)  \n",
        "  * instance variable (name)\n",
        "\n",
        "Notice the use of the docstring. The first line is a summary, then a blank line and then a more detailed description and finally ending with a blank line"
      ]
    },
    {
      "cell_type": "code",
      "metadata": {
        "id": "axGLjbpUVpfn",
        "colab_type": "code",
        "colab": {}
      },
      "source": [
        "class Professor:\n",
        "  '''\n",
        "  Declaration of a Professor Person class.\n",
        "  \n",
        "  This is a simplistic implementation of a real world profesor\n",
        "  Each object of this class will have a name and a unique id\n",
        "\n",
        "  '''\n",
        "\n",
        "  _id = 100000                #a class variable that is used to \n",
        "                              #implement sequential numbering\n",
        "\n",
        "  def __init__(self, name):\n",
        "    '''\n",
        "    Initialize an instance of this class\n",
        "\n",
        "    In C# the constructor name will match the \n",
        "    name of the class. In python the constructor\n",
        "    is always called __init__\n",
        "\n",
        "    '''\n",
        "    self.name = name          #implied attribute\n",
        "    self.id = Professor._id   #implied attribute\n",
        "    Professor._id += 1"
      ],
      "execution_count": null,
      "outputs": []
    },
    {
      "cell_type": "markdown",
      "metadata": {
        "id": "Nw0s9eBTYCBL",
        "colab_type": "text"
      },
      "source": [
        "####Test harness\n",
        "The most fundamental way of testing a class is to instantiate it and then print and examine the resulting object. "
      ]
    },
    {
      "cell_type": "code",
      "metadata": {
        "id": "_aH_TSN4XeBJ",
        "colab_type": "code",
        "colab": {
          "base_uri": "https://localhost:8080/",
          "height": 555
        },
        "outputId": "bb326557-a768-4f06-dc8b-23acc5eced6f"
      },
      "source": [
        "#Code to test the Person class\n",
        "p = Professor('Narendra')   #instantiate the Person class\n",
        "print(p)                    #print the object (gibberish now but we will fix later)\n",
        "print(p.name)               #the do operator is use to access members\n",
        "#uncomments the two lines below and examine the output\n",
        "#help(p)                   #notice how the docstring is used here\n",
        "#dir(p)                    #one of the benefits of OOP is that you\n",
        "                            #hit the ground running"
      ],
      "execution_count": null,
      "outputs": [
        {
          "output_type": "stream",
          "text": [
            "100003: Narendra\n",
            "Narendra\n"
          ],
          "name": "stdout"
        },
        {
          "output_type": "execute_result",
          "data": {
            "text/plain": [
              "['__class__',\n",
              " '__delattr__',\n",
              " '__dict__',\n",
              " '__dir__',\n",
              " '__doc__',\n",
              " '__eq__',\n",
              " '__format__',\n",
              " '__ge__',\n",
              " '__getattribute__',\n",
              " '__gt__',\n",
              " '__hash__',\n",
              " '__init__',\n",
              " '__init_subclass__',\n",
              " '__le__',\n",
              " '__lt__',\n",
              " '__module__',\n",
              " '__ne__',\n",
              " '__new__',\n",
              " '__reduce__',\n",
              " '__reduce_ex__',\n",
              " '__repr__',\n",
              " '__setattr__',\n",
              " '__sizeof__',\n",
              " '__str__',\n",
              " '__subclasshook__',\n",
              " '__weakref__',\n",
              " '_id',\n",
              " 'id',\n",
              " 'name']"
            ]
          },
          "metadata": {
            "tags": []
          },
          "execution_count": 5
        }
      ]
    },
    {
      "cell_type": "markdown",
      "metadata": {
        "id": "pPWuEUmJZ0TG",
        "colab_type": "text"
      },
      "source": [
        "####2. <a name=\"complete_class\"></a>An improve person class\n",
        "This version we have overloaded the &UnderBar;&UnderBar;str__ and the &UnderBar;&UnderBar;eq__ methods. These methods are used by the print() function and in equality comparison respectively."
      ]
    },
    {
      "cell_type": "code",
      "metadata": {
        "id": "iag3v4T9Z6tj",
        "colab_type": "code",
        "colab": {}
      },
      "source": [
        "class Professor:\n",
        "  '''\n",
        "  Declaration of a Professor Person class.\n",
        "  \n",
        "  This is a simplistic implementation of a real world profesor\n",
        "  Each object of this class will have a name and a unique id\n",
        "  \n",
        "  The above is termed docstring. It serves as documentation for\n",
        "  users who actually uses the code and as comments for developers \n",
        "  who are readin the source code. You may write docstring for \n",
        "  classes and methods. And it ends with a blank line\n",
        "  '''\n",
        "  _id = 100000        #a class variable to implement sequential numbering\n",
        "\n",
        "  def __init__(self, name):\n",
        "    '''\n",
        "    Initialize an instance of this class.\n",
        "\n",
        "    In C# the constructor name will match the \n",
        "    name of the class. In python the constructor\n",
        "    is always called __init__\n",
        "    \n",
        "    '''\n",
        "    self.name = name\n",
        "    self.id = Professor._id\n",
        "    Professor._id += 1\n",
        "\n",
        "  def __str__(self):\n",
        "    '''\n",
        "    Returns a string representation of this object.\n",
        "\n",
        "    Identical to the ToString method in C#\n",
        "    '''\n",
        "    return f'{self.id}: {self.name}'\n",
        "\n",
        "  def __eq__(self, other):\n",
        "    '''\n",
        "    Provide a customized version of ==.\n",
        "\n",
        "    Returns true if two object have the same name.\n",
        "    This is called operator overloading\n",
        "\n",
        "    '''\n",
        "    return self.name == other.name"
      ],
      "execution_count": null,
      "outputs": []
    },
    {
      "cell_type": "markdown",
      "metadata": {
        "id": "VSXf1ufAbP8Y",
        "colab_type": "text"
      },
      "source": [
        "####Test harness"
      ]
    },
    {
      "cell_type": "code",
      "metadata": {
        "id": "BdXHWafxbOJ2",
        "colab_type": "code",
        "colab": {
          "base_uri": "https://localhost:8080/",
          "height": 990
        },
        "outputId": "65d8fc85-adc8-4921-d34d-41ba7adb7aa0"
      },
      "source": [
        "a = Professor('Narendra')\n",
        "print(a)\n",
        "b = Professor('Ilia')\n",
        "print(b)\n",
        "c = Professor('Narendra')\n",
        "print(c)\n",
        "\n",
        "print(f'{a} {\"=\" if a==b else \"!=\"} {b}')\n",
        "print(f'{a} {\"=\" if a==c else \"!=\"} {c} (remember equality means same name)')\n",
        "#now try the help function\n",
        "help(a)\n",
        "\n",
        "print('The class variable (_id) will be the same for all of the objects')\n",
        "obj = a\n",
        "print(f'For {obj} -> {obj._id}')\n",
        "obj = b\n",
        "print(f'For {obj} -> {obj._id}')\n",
        "obj = c\n",
        "print(f'For {obj} -> {obj._id}')\n"
      ],
      "execution_count": null,
      "outputs": [
        {
          "output_type": "stream",
          "text": [
            "100000: Narendra\n",
            "100001: Ilia\n",
            "100002: Narendra\n",
            "100000: Narendra != 100001: Ilia\n",
            "100000: Narendra = 100002: Narendra (remember equality means same name)\n",
            "Help on Professor in module __main__ object:\n",
            "\n",
            "class Professor(builtins.object)\n",
            " |  Declaration of a Professor Person class.\n",
            " |  \n",
            " |  This is a simplistic implementation of a real world profesor\n",
            " |  Each object of this class will have a name and a unique id\n",
            " |  \n",
            " |  The above is termed docstring. It serves as documentation for\n",
            " |  users who actually uses the code and as comments for developers \n",
            " |  who are readin the source code. You may write docstring for \n",
            " |  classes and methods. And it ends with a blank line\n",
            " |  \n",
            " |  Methods defined here:\n",
            " |  \n",
            " |  __eq__(self, other)\n",
            " |      Provide a customized version of ==.\n",
            " |      \n",
            " |      Returns true if two object have the same name.\n",
            " |      This is called operator overloading\n",
            " |  \n",
            " |  __init__(self, name)\n",
            " |      Initialize an instance of this class.\n",
            " |      \n",
            " |      In C# the constructor name will match the \n",
            " |      name of the class. In python the constructor\n",
            " |      is always called __init__\n",
            " |  \n",
            " |  __str__(self)\n",
            " |      Returns a string representation of this object.\n",
            " |      \n",
            " |      Identical to the ToString method in C#\n",
            " |  \n",
            " |  ----------------------------------------------------------------------\n",
            " |  Data descriptors defined here:\n",
            " |  \n",
            " |  __dict__\n",
            " |      dictionary for instance variables (if defined)\n",
            " |  \n",
            " |  __weakref__\n",
            " |      list of weak references to the object (if defined)\n",
            " |  \n",
            " |  ----------------------------------------------------------------------\n",
            " |  Data and other attributes defined here:\n",
            " |  \n",
            " |  __hash__ = None\n",
            "\n",
            "The class variable (_id) will be the same for all of the objects\n",
            "For 100000: Narendra -> 100003\n",
            "For 100001: Ilia -> 100003\n",
            "For 100002: Narendra -> 100003\n"
          ],
          "name": "stdout"
        }
      ]
    },
    {
      "cell_type": "markdown",
      "metadata": {
        "id": "Xslx0OqNzDp7",
        "colab_type": "text"
      },
      "source": [
        "Dynamically adding and removing attributes to a class or any object e.g."
      ]
    },
    {
      "cell_type": "code",
      "metadata": {
        "id": "xdAX4arCzBlI",
        "colab_type": "code",
        "colab": {
          "base_uri": "https://localhost:8080/",
          "height": 69
        },
        "outputId": "2ff11767-b7d0-455f-b410-dddfbe4edcbc"
      },
      "source": [
        "a.boss = 'predrag'                       #instance variable\n",
        "print(a.boss)\n",
        "Professor.college = 'Centennial College' #class variable\n",
        "d = Professor('arben')\n",
        "print(d.college)\n",
        "del(a.boss)\n",
        "print(hasattr(a, 'boss'))                #there is no boss attribute"
      ],
      "execution_count": null,
      "outputs": [
        {
          "output_type": "stream",
          "text": [
            "predrag\n",
            "Centennial College\n",
            "False\n"
          ],
          "name": "stdout"
        }
      ]
    },
    {
      "cell_type": "markdown",
      "metadata": {
        "id": "6e1OTfu_EWH4",
        "colab_type": "text"
      },
      "source": [
        "####2. <a name=\"private_members\"></a>Private Members and Properties\n",
        "Double under score makes a member private. \n",
        "\n",
        "A single under score make a member protected\n",
        "\n",
        "Decorator attribute is used to decorate getters and setters"
      ]
    },
    {
      "cell_type": "code",
      "metadata": {
        "id": "sD6Xof-qEa2D",
        "colab_type": "code",
        "colab": {}
      },
      "source": [
        "class Distance:\n",
        "  '''\n",
        "  A class to distance.\n",
        "\n",
        "  Store distance internally as km. Object\n",
        "  can work with both km or mile.\n",
        "\n",
        "  '''\n",
        "\n",
        "  KM_TO_MILES = 1.60934   #class data member\n",
        "  def __init__(self, km):\n",
        "    self.__km = km        #__km is a private data member\n",
        "\n",
        "  @property               #accessor property\n",
        "  def mile(self):\n",
        "    '''\n",
        "    Gets or set the distance as mile.\n",
        "\n",
        "    Distance is stored internally in the \n",
        "    attribute __km. So this value is multipled\n",
        "    by the class variable KM_TO_MILES.\n",
        "\n",
        "    '''\n",
        "    return self.__km * Distance.KM_TO_MILES\n",
        "\n",
        "  @mile.setter            #mutator property\n",
        "  def mile(self, distance):\n",
        "    '''\n",
        "    This docstring will be ignored, so instead\n",
        "    put it in the above getter.    \n",
        "    '''\n",
        "    self.__km = distance * Distance.KM_TO_MILES\n",
        "\n",
        "  @property\n",
        "  def km(self):\n",
        "    return self.__km\n",
        "\n",
        "  @km.setter\n",
        "  def km(self, distance):\n",
        "    self.__km = distance"
      ],
      "execution_count": null,
      "outputs": []
    },
    {
      "cell_type": "markdown",
      "metadata": {
        "id": "-Damyplfd5H2",
        "colab_type": "text"
      },
      "source": [
        "#####Test Harness"
      ]
    },
    {
      "cell_type": "code",
      "metadata": {
        "id": "UY16Uyvxd8Tf",
        "colab_type": "code",
        "colab": {
          "base_uri": "https://localhost:8080/",
          "height": 86
        },
        "outputId": "8b92a017-c975-403d-bd7c-471ba8e2ec4e"
      },
      "source": [
        "d = Distance(1)\n",
        "print(d.km)\n",
        "print(d.mile)\n",
        "d.mile = 10\n",
        "print(d.km)\n",
        "d.km = 5\n",
        "print(d.mile)\n",
        "#help(d)\n"
      ],
      "execution_count": null,
      "outputs": [
        {
          "output_type": "stream",
          "text": [
            "1\n",
            "1.60934\n",
            "16.0934\n",
            "8.0467\n"
          ],
          "name": "stdout"
        }
      ]
    },
    {
      "cell_type": "markdown",
      "metadata": {
        "id": "BQziKMqhfTVx",
        "colab_type": "text"
      },
      "source": [
        "###2. <a name=\"inheritance\"></a>Inheritance\n",
        "Inheritance is one of the pillars of OOP. It allows you to add more features to existing classes or replace members with a different implementation."
      ]
    },
    {
      "cell_type": "code",
      "metadata": {
        "id": "0wgRYo8ofzu-",
        "colab_type": "code",
        "colab": {}
      },
      "source": [
        "#parent class\n",
        "class Student:\n",
        "  def __init__(self, name):\n",
        "    self.name = name\n",
        "\n",
        "  def __str__(self):\n",
        "    return self.name"
      ],
      "execution_count": null,
      "outputs": []
    },
    {
      "cell_type": "code",
      "metadata": {
        "id": "z8uoRs-TgKzX",
        "colab_type": "code",
        "colab": {}
      },
      "source": [
        "#A class derived from the above Person class\n",
        "class ForeignStudent(Student):    #the parent is Student\n",
        "  def __init__(self, name, country):\n",
        "    Student.__init__(self, name)\n",
        "    self.country = country\n",
        "\n",
        "  def __str__(self):\n",
        "    return f'{self.name} is from {self.country}'"
      ],
      "execution_count": null,
      "outputs": []
    },
    {
      "cell_type": "markdown",
      "metadata": {
        "id": "zGeyR9Z0hLeh",
        "colab_type": "text"
      },
      "source": [
        "####Test Harness"
      ]
    },
    {
      "cell_type": "code",
      "metadata": {
        "id": "08RwJ06ihQQl",
        "colab_type": "code",
        "colab": {
          "base_uri": "https://localhost:8080/",
          "height": 52
        },
        "outputId": "e1879a68-7846-480f-860e-2600958899a1"
      },
      "source": [
        "a = Person('ilia')\n",
        "print(a)\n",
        "b = ForeignStudent('hao', 'England')\n",
        "print(b)"
      ],
      "execution_count": null,
      "outputs": [
        {
          "output_type": "stream",
          "text": [
            "ilia\n",
            "hao is from England\n"
          ],
          "name": "stdout"
        }
      ]
    },
    {
      "cell_type": "markdown",
      "metadata": {
        "id": "mRiQHEzYh91_",
        "colab_type": "text"
      },
      "source": [
        "###2. <a name=\"multiple_inheritance\"></a>Multiple Inheritance (not covered in this course)\n",
        "As the name suggest, a child class has more than one parent"
      ]
    },
    {
      "cell_type": "code",
      "metadata": {
        "id": "DVGntM8ajXLR",
        "colab_type": "code",
        "colab": {}
      },
      "source": [
        "#person class\n",
        "class Person:\n",
        "  def __init__(self, name):\n",
        "    self.name = name"
      ],
      "execution_count": null,
      "outputs": []
    },
    {
      "cell_type": "code",
      "metadata": {
        "id": "qeGUg0k0jfCv",
        "colab_type": "code",
        "colab": {}
      },
      "source": [
        "#employee class\n",
        "class Employee:\n",
        "  def __init__(self, department):\n",
        "    self.department = department"
      ],
      "execution_count": null,
      "outputs": []
    },
    {
      "cell_type": "code",
      "metadata": {
        "id": "idIgsmZujzWx",
        "colab_type": "code",
        "colab": {}
      },
      "source": [
        "#faculty class\n",
        "class Faculty(Person, Employee):       #parents are Person and Employee\n",
        "  def __init__(self, name, department, salary):\n",
        "    Person.__init__(self, name)\n",
        "    Employee.__init__(self, department)\n",
        "    self.salary = salary"
      ],
      "execution_count": null,
      "outputs": []
    },
    {
      "cell_type": "markdown",
      "metadata": {
        "id": "vgQspIlsEu-M",
        "colab_type": "text"
      },
      "source": [
        "####Test Harness"
      ]
    },
    {
      "cell_type": "code",
      "metadata": {
        "id": "OsnFBLF6kjiN",
        "colab_type": "code",
        "colab": {
          "base_uri": "https://localhost:8080/",
          "height": 123
        },
        "outputId": "732de284-6309-4c98-e9ac-c3594b59d3fd"
      },
      "source": [
        "a = Person('Abigail')\n",
        "b = Employee('Indra')\n",
        "c = Faculty('Arnold', 'ICET', 25000)\n",
        "print(type(a))\n",
        "print(type(b))\n",
        "print(type(c))\n",
        "print(isinstance(a, Person))             #True\n",
        "print(isinstance(b, (Person, Faculty)))  #False\n",
        "print(isinstance(c, (Person, Faculty)))  #True\n",
        "# isinstance(a, Person)"
      ],
      "execution_count": null,
      "outputs": [
        {
          "output_type": "stream",
          "text": [
            "<class '__main__.Person'>\n",
            "<class '__main__.Employee'>\n",
            "<class '__main__.Faculty'>\n",
            "True\n",
            "False\n",
            "True\n"
          ],
          "name": "stdout"
        }
      ]
    },
    {
      "cell_type": "code",
      "metadata": {
        "id": "sNXVzyrcqHQt",
        "colab_type": "code",
        "colab": {
          "base_uri": "https://localhost:8080/",
          "height": 159
        },
        "outputId": "46410d98-d9c0-42fa-aa6e-1f1921976b20"
      },
      "source": [
        "%lsmagic"
      ],
      "execution_count": null,
      "outputs": [
        {
          "output_type": "execute_result",
          "data": {
            "application/json": {
              "cell": {
                "prun": "ExecutionMagics",
                "file": "Other",
                "!": "OSMagics",
                "capture": "ExecutionMagics",
                "timeit": "ExecutionMagics",
                "script": "ScriptMagics",
                "pypy": "Other",
                "system": "OSMagics",
                "perl": "Other",
                "html": "DisplayMagics",
                "bash": "Other",
                "shell": "Other",
                "HTML": "Other",
                "python": "Other",
                "SVG": "Other",
                "javascript": "DisplayMagics",
                "bigquery": "Other",
                "js": "DisplayMagics",
                "writefile": "OSMagics",
                "ruby": "Other",
                "python3": "Other",
                "python2": "Other",
                "latex": "DisplayMagics",
                "sx": "OSMagics",
                "svg": "DisplayMagics",
                "sh": "Other",
                "time": "ExecutionMagics",
                "debug": "ExecutionMagics"
              },
              "line": {
                "psource": "NamespaceMagics",
                "logstart": "LoggingMagics",
                "popd": "OSMagics",
                "tensorflow_version": "Other",
                "loadpy": "CodeMagics",
                "colors": "BasicMagics",
                "who_ls": "NamespaceMagics",
                "lf": "Other",
                "ll": "Other",
                "pprint": "BasicMagics",
                "lk": "Other",
                "ls": "Other",
                "save": "CodeMagics",
                "tb": "ExecutionMagics",
                "lx": "Other",
                "pylab": "PylabMagics",
                "killbgscripts": "ScriptMagics",
                "quickref": "BasicMagics",
                "magic": "BasicMagics",
                "dhist": "OSMagics",
                "edit": "KernelMagics",
                "logstop": "LoggingMagics",
                "gui": "BasicMagics",
                "prun": "ExecutionMagics",
                "debug": "ExecutionMagics",
                "page": "BasicMagics",
                "logstate": "LoggingMagics",
                "ed": "Other",
                "pushd": "OSMagics",
                "timeit": "ExecutionMagics",
                "set_env": "OSMagics",
                "rehashx": "OSMagics",
                "hist": "Other",
                "qtconsole": "KernelMagics",
                "rm": "Other",
                "dirs": "OSMagics",
                "run": "ExecutionMagics",
                "reset_selective": "NamespaceMagics",
                "pinfo2": "NamespaceMagics",
                "matplotlib": "PylabMagics",
                "unload_ext": "ExtensionMagics",
                "doctest_mode": "BasicMagics",
                "logoff": "LoggingMagics",
                "reload_ext": "ExtensionMagics",
                "pdb": "ExecutionMagics",
                "load": "CodeMagics",
                "lsmagic": "BasicMagics",
                "autosave": "KernelMagics",
                "cd": "OSMagics",
                "pastebin": "CodeMagics",
                "alias_magic": "BasicMagics",
                "cp": "Other",
                "autocall": "AutoMagics",
                "ldir": "Other",
                "bookmark": "OSMagics",
                "connect_info": "KernelMagics",
                "mkdir": "Other",
                "system": "OSMagics",
                "whos": "NamespaceMagics",
                "rmdir": "Other",
                "automagic": "AutoMagics",
                "store": "StoreMagics",
                "more": "KernelMagics",
                "shell": "Other",
                "pdef": "NamespaceMagics",
                "precision": "BasicMagics",
                "pinfo": "NamespaceMagics",
                "pwd": "OSMagics",
                "psearch": "NamespaceMagics",
                "reset": "NamespaceMagics",
                "recall": "HistoryMagics",
                "xdel": "NamespaceMagics",
                "xmode": "BasicMagics",
                "cat": "Other",
                "mv": "Other",
                "rerun": "HistoryMagics",
                "logon": "LoggingMagics",
                "history": "HistoryMagics",
                "pycat": "OSMagics",
                "pip": "Other",
                "unalias": "OSMagics",
                "env": "OSMagics",
                "load_ext": "ExtensionMagics",
                "config": "ConfigMagics",
                "profile": "BasicMagics",
                "pfile": "NamespaceMagics",
                "less": "KernelMagics",
                "who": "NamespaceMagics",
                "notebook": "BasicMagics",
                "man": "KernelMagics",
                "sx": "OSMagics",
                "macro": "ExecutionMagics",
                "clear": "KernelMagics",
                "alias": "OSMagics",
                "time": "ExecutionMagics",
                "sc": "OSMagics",
                "rep": "Other",
                "pdoc": "NamespaceMagics"
              }
            },
            "text/plain": [
              "Available line magics:\n",
              "%alias  %alias_magic  %autocall  %automagic  %autosave  %bookmark  %cat  %cd  %clear  %colors  %config  %connect_info  %cp  %debug  %dhist  %dirs  %doctest_mode  %ed  %edit  %env  %gui  %hist  %history  %killbgscripts  %ldir  %less  %lf  %lk  %ll  %load  %load_ext  %loadpy  %logoff  %logon  %logstart  %logstate  %logstop  %ls  %lsmagic  %lx  %macro  %magic  %man  %matplotlib  %mkdir  %more  %mv  %notebook  %page  %pastebin  %pdb  %pdef  %pdoc  %pfile  %pinfo  %pinfo2  %pip  %popd  %pprint  %precision  %profile  %prun  %psearch  %psource  %pushd  %pwd  %pycat  %pylab  %qtconsole  %quickref  %recall  %rehashx  %reload_ext  %rep  %rerun  %reset  %reset_selective  %rm  %rmdir  %run  %save  %sc  %set_env  %shell  %store  %sx  %system  %tb  %tensorflow_version  %time  %timeit  %unalias  %unload_ext  %who  %who_ls  %whos  %xdel  %xmode\n",
              "\n",
              "Available cell magics:\n",
              "%%!  %%HTML  %%SVG  %%bash  %%bigquery  %%capture  %%debug  %%file  %%html  %%javascript  %%js  %%latex  %%perl  %%prun  %%pypy  %%python  %%python2  %%python3  %%ruby  %%script  %%sh  %%shell  %%svg  %%sx  %%system  %%time  %%timeit  %%writefile\n",
              "\n",
              "Automagic is ON, % prefix IS NOT needed for line magics."
            ]
          },
          "metadata": {
            "tags": []
          },
          "execution_count": 5
        }
      ]
    },
    {
      "cell_type": "code",
      "metadata": {
        "id": "JZQ7vDAoqxFL",
        "colab_type": "code",
        "colab": {}
      },
      "source": [
        "?%%HTML"
      ],
      "execution_count": null,
      "outputs": []
    },
    {
      "cell_type": "code",
      "metadata": {
        "id": "O__ODco1t6RA",
        "colab_type": "code",
        "colab": {}
      },
      "source": [
        "#!python -m pydoc -b"
      ],
      "execution_count": null,
      "outputs": []
    }
  ]
}