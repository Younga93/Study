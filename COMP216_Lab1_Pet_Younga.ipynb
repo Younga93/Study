{
  "nbformat": 4,
  "nbformat_minor": 0,
  "metadata": {
    "colab": {
      "name": "COMP216_Lab1_Pet_Younga.ipynb",
      "provenance": [],
      "authorship_tag": "ABX9TyN7IzDNgWvxK8+LrgwBFlfV",
      "include_colab_link": true
    },
    "kernelspec": {
      "name": "python3",
      "display_name": "Python 3"
    }
  },
  "cells": [
    {
      "cell_type": "markdown",
      "metadata": {
        "id": "view-in-github",
        "colab_type": "text"
      },
      "source": [
        "<a href=\"https://colab.research.google.com/github/Younga93/Study/blob/master/COMP216_Lab1_Pet_Younga.ipynb\" target=\"_parent\"><img src=\"https://colab.research.google.com/assets/colab-badge.svg\" alt=\"Open In Colab\"/></a>"
      ]
    },
    {
      "cell_type": "markdown",
      "metadata": {
        "id": "gkpnpRjGYkTd",
        "colab_type": "text"
      },
      "source": [
        "Written by: Younga Jin #301055699 <br>\n",
        "Date: September 24, 2020"
      ]
    },
    {
      "cell_type": "code",
      "metadata": {
        "id": "wI8xDI_3SF-g",
        "colab_type": "code",
        "colab": {}
      },
      "source": [
        "class Pet:\n",
        "  def __init__(self, name, age):\n",
        "    self.age = age\n",
        "    self.name = name\n",
        "    self.trained = False\n",
        "    self.owner = None\n",
        "    \n",
        "  def __str__(self):\n",
        "    # greet and introduce\n",
        "    greeting = f'Hi I am {self.age}yrs and my name is {self.name}'\n",
        "    \n",
        "    # trained or not\n",
        "    if self.trained == False:\n",
        "      training = '\\n I am not house trained and '\n",
        "    else:\n",
        "      training = f'\\nI am house trained and'\n",
        "    \n",
        "    # has an owner?\n",
        "    if self.owner == None:\n",
        "      belonging = 'no one owns me'\n",
        "    else:\n",
        "      belonging = f'{self.owner} owns me.'\n",
        "    \n",
        "    return f'{greeting}{training}{belonging}'\n",
        "\n",
        "  def set_owner(self, owner):\n",
        "    self.owner = owner\n",
        "  \n",
        "  def train(self):\n",
        "    self.trained = True\n",
        "\n"
      ],
      "execution_count": null,
      "outputs": []
    },
    {
      "cell_type": "code",
      "metadata": {
        "id": "MkXY2Y95SRXM",
        "colab_type": "code",
        "colab": {
          "base_uri": "https://localhost:8080/",
          "height": 370
        },
        "outputId": "c99ffe89-bb97-43e7-8b57-ac6ba9b087de"
      },
      "source": [
        "# The test harness\n",
        "garfield =Pet('Garfield', 3)\n",
        "x =1\n",
        "print(f'{x}:{garfield}')\n",
        "garfield.owner ='Jon'\n",
        "x +=1\n",
        "print(f'{x}:{garfield}')\n",
        "x +=1\n",
        "print(f'{x}:{garfield.owner}')\n",
        "garfield.set_owner('Jon')\n",
        "x +=1\n",
        "print(f'{x}:{garfield}')\n",
        "garfield.train()\n",
        "x +=1\n",
        "print(f'{x}:{garfield}')\n",
        "\n",
        "#create a list with about 4 pets\n",
        "pets =[garfield, Pet('Beethoven', 2), Pet('Jake', 5), Pet('Stuart', 7)]\n",
        "for p in pets:\n",
        "  x +=1\n",
        "  print(f'\\n{x}:{p}')"
      ],
      "execution_count": null,
      "outputs": [
        {
          "output_type": "stream",
          "text": [
            "1:Hi I am 3yrs and my name is Garfield\n",
            " I am not house trained and no one owns me\n",
            "2:Hi I am 3yrs and my name is Garfield\n",
            " I am not house trained and Jon owns me.\n",
            "3:Jon\n",
            "4:Hi I am 3yrs and my name is Garfield\n",
            " I am not house trained and Jon owns me.\n",
            "5:Hi I am 3yrs and my name is Garfield\n",
            "I am house trained andJon owns me.\n",
            "\n",
            "6:Hi I am 3yrs and my name is Garfield\n",
            "I am house trained andJon owns me.\n",
            "\n",
            "7:Hi I am 2yrs and my name is Beethoven\n",
            " I am not house trained and no one owns me\n",
            "\n",
            "8:Hi I am 5yrs and my name is Jake\n",
            " I am not house trained and no one owns me\n",
            "\n",
            "9:Hi I am 7yrs and my name is Stuart\n",
            " I am not house trained and no one owns me\n"
          ],
          "name": "stdout"
        }
      ]
    }
  ]
}